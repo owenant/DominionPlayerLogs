{
 "cells": [
  {
   "cell_type": "code",
   "execution_count": 1,
   "id": "6d6a2b64",
   "metadata": {},
   "outputs": [],
   "source": [
    "import pandas as pd\n",
    "import pdb\n",
    "from bs4 import BeautifulSoup\n",
    "import logging\n",
    "import re"
   ]
  },
  {
   "cell_type": "code",
   "execution_count": 2,
   "id": "4b9b87b7",
   "metadata": {},
   "outputs": [],
   "source": [
    "#set-up log\n",
    "logger = logging.getLogger()\n",
    "fhandler = logging.FileHandler(filename='processor.log', mode='a')\n",
    "logger.addHandler(fhandler)\n",
    "logger.setLevel(logging.DEBUG)"
   ]
  },
  {
   "cell_type": "code",
   "execution_count": 3,
   "id": "7eb2787b",
   "metadata": {},
   "outputs": [],
   "source": [
    "#input file\n",
    "year_dir_name = '2010-all/'\n",
    "#year_dir_name = '2012-all/'\n",
    "dir_name = 'DominionPlayerLogs/' +  year_dir_name + '20101212'\n",
    "#dir_name = 'DominionPlayerLogs/' +  year_dir_name + '20121231'\n",
    "output_dir = 'ProcessedLogs/' + year_dir_name\n",
    "html_doc = 'game-20101212-150352-190a769e.html'\n",
    "#html_doc = 'game-20121231-000041-13409c79.html'\n",
    "\n",
    "logging.debug(\"Processing file: \" + str(dir_name + '/' + html_doc))"
   ]
  },
  {
   "cell_type": "code",
   "execution_count": 4,
   "id": "d7568047",
   "metadata": {},
   "outputs": [],
   "source": [
    "#output file\n",
    "\n",
    "#set-up output file for high level info including card supply\n",
    "high_level_output_file = html_doc[:-5] + '_summary.txt'\n",
    "\n",
    "#set-up output file for features - i.e. number of cards at the end of each round\n"
   ]
  },
  {
   "cell_type": "code",
   "execution_count": 5,
   "id": "186e7c26",
   "metadata": {},
   "outputs": [],
   "source": [
    "file = open(dir_name  + '/' + html_doc, mode = 'r')\n",
    "soup = BeautifulSoup(file, 'html.parser')\n",
    "\n",
    "#print(soup.prettify())"
   ]
  },
  {
   "cell_type": "code",
   "execution_count": 6,
   "id": "124901ab",
   "metadata": {},
   "outputs": [],
   "source": [
    "#convert html contents into a list of tabs, navigable strings etc\n",
    "pre_tag = soup.find('pre')\n",
    "#pre_tag.contents\n",
    "#print(pre_tag.contents)"
   ]
  },
  {
   "cell_type": "code",
   "execution_count": 7,
   "id": "ef486be6",
   "metadata": {},
   "outputs": [
    {
     "name": "stdout",
     "output_type": "stream",
     "text": [
      "['jayro', 'Malletman']\n",
      "[' 8', ' 4']\n"
     ]
    }
   ],
   "source": [
    "#first extract number of players and final score\n",
    "#look for entries of the form #n <name>: x points' - these are tagged with a 'b'\n",
    "#in earlier log files the '#n' is dropped and hence we also need to consider this case\n",
    "players = []\n",
    "scores = []\n",
    "list_b_tags = soup.find_all('b');\n",
    "for tag in list_b_tags:\n",
    "    s = tag.text\n",
    "    if '#' in s:\n",
    "        #extract name (assume string of form '#n ' comes before the name)\n",
    "        players.append(s[3:])\n",
    "        #next sibing contains the score, assume score is after a string of the form ': ' and is 2 digits long\n",
    "        score_text = tag.next_sibling\n",
    "        scores.append(score_text[2:4])\n",
    "\n",
    "#deal with second case where name is not preceeded by a '#n '\n",
    "if len(players) == 0:\n",
    "    for tag in list_b_tags:\n",
    "        s = tag.text\n",
    "        if ':' in s:\n",
    "            #in this case the name is contained in the text preceeded by a ':'\n",
    "            colon_position = s.index(':')\n",
    "            players.append(s[:colon_position])\n",
    "            scores.append(s[colon_position+1 : colon_position+3])\n",
    "    \n",
    "print(players)\n",
    "print(scores)\n"
   ]
  },
  {
   "cell_type": "code",
   "execution_count": 8,
   "id": "9274d086",
   "metadata": {},
   "outputs": [
    {
     "name": "stdout",
     "output_type": "stream",
     "text": [
      "{'jayro': 29, 'Malletman': 29}\n"
     ]
    }
   ],
   "source": [
    "#extract number of turns for this game for each player\n",
    "total_turns = []\n",
    "count = 0\n",
    "for (k,r) in enumerate(pre_tag.contents):\n",
    "    if 'turn' in r.text:\n",
    "        turn_position = r.text.index('turn')\n",
    "        #assume number of turns is given by two digits and there is a space to the start of the word 'turn'\n",
    "        total_turns.append(int(re.search(r'\\d+', r.text[turn_position-3:turn_position]).group()))\n",
    "        count += 1\n",
    "        if count == len(players):\n",
    "            break\n",
    "#note, turns are in same order as player names in html file\n",
    "turns_by_player = {}\n",
    "turns_by_player[players[0]] = total_turns[0]\n",
    "turns_by_player[players[1]] = total_turns[1]\n",
    "print(turns_by_player)"
   ]
  },
  {
   "cell_type": "code",
   "execution_count": 9,
   "id": "2209bbaf",
   "metadata": {},
   "outputs": [],
   "source": [
    "#following function parses a single line which consists of number of cards (unless equal to one) and card types\n",
    "#each separated by a colon and ended with a full stop or a horizontal dashed line. It returns a list of cards \n",
    "#with card names duplicated according to the number of them in the row. Also the index of the full stop or \n",
    "#dashed line will be returned\n",
    "def parse_row_into_cards(contents_list):\n",
    "    card_list = []\n",
    "    for (k,r) in enumerate(contents_list):\n",
    "        #Need to be careful that the first content item doesn't contain a '....', causing \n",
    "        #the code to pickup a full stop\n",
    "        if ((('.' not in r) or (k == 0)) and r.name == None and ('----------------------' not in r)):\n",
    "            #check to see if trashing text contains the number of cards trashed\n",
    "            #number is contained in last two digits of text\n",
    "            try:\n",
    "                no_cards = int(r[-2:])\n",
    "            except ValueError:\n",
    "                no_cards = 1\n",
    "            #take next entry along which should be the card name\n",
    "            card_type = r.next_sibling.text\n",
    "            #and add copies of that to the dictionary\n",
    "            for count in range(0,no_cards):\n",
    "                card_list.append(card_type)\n",
    "        elif (('.' in r) or ('----------------------' in r)) and (k != 0):\n",
    "            return (k, card_list)"
   ]
  },
  {
   "cell_type": "code",
   "execution_count": 10,
   "id": "7af99ceb",
   "metadata": {},
   "outputs": [],
   "source": [
    "#so we need to be careful figuring out the cards in the supply, first we scan down the file\n",
    "# to see if there is a 'chosen cards are' string followed by ''<player name> vetoes'. In this\n",
    "#case the players are making choices over the card supply, if this isnt present then the\n",
    "#supply cards are given at the top of the file post a string that says 'cards in supply'"
   ]
  },
  {
   "cell_type": "code",
   "execution_count": 11,
   "id": "26a72712",
   "metadata": {},
   "outputs": [
    {
     "name": "stdout",
     "output_type": "stream",
     "text": [
      "['Colony', 'Cutpurse', 'Great Hall', 'Ironworks', 'Laboratory', 'Market', 'Masquerade', 'Mining Village', 'Native Village', 'Platinum', 'Scout', \"Worker's Village\"]\n"
     ]
    }
   ],
   "source": [
    "#start with the case where players can veto\n",
    "vetoes_used = False\n",
    "for (i,s) in enumerate(pre_tag.contents):\n",
    "    if 'chosen cards are' in s:\n",
    "        #loop over chosen supply cards\n",
    "        (index, cards) = parse_row_into_cards(pre_tag.contents[i:])\n",
    "        index_end = i + index \n",
    "        supply_cards = cards\n",
    "        vetoes_used = True\n",
    "\n",
    "if vetoes_used == True:\n",
    "    #next each player can veto a card\n",
    "    vetoed_cards = []\n",
    "    for player in players:\n",
    "        for s in pre_tag.contents[index_end:]:\n",
    "            check_string = player + ' vetoes'\n",
    "            if check_string in s:\n",
    "                vetoed_cards.append(s.next_sibling.text)\n",
    "    #remove vetoed cards from list of supply cards\n",
    "    supply_cards = list(filter(lambda x: x not in vetoed_cards, supply_cards))\n",
    "        \n",
    "#if this didnt occur move onto the second case\n",
    "if vetoes_used == False:\n",
    "    for i, s in enumerate(pre_tag.contents):\n",
    "        if 'cards in supply' in s:\n",
    "            (index, cards) = parse_row_into_cards(pre_tag.contents[i:])\n",
    "            supply_cards = cards\n",
    "\n",
    "print(supply_cards)"
   ]
  },
  {
   "cell_type": "code",
   "execution_count": 12,
   "id": "474e4a35",
   "metadata": {},
   "outputs": [],
   "source": [
    "#next extract kingdom cards - first we deal with the case where the default set is chosen and players don't \n",
    "#make changes\n",
    "\n",
    "#iterate through contents list under we find an element which contains 'cards in supply'. \n",
    "#default_supply_cards_start_index = 0\n",
    "#for i, s in enumerate(pre_tag.contents):\n",
    "#    if 'cards in supply' in s:\n",
    "#        default_supply_cards_start_index = i\n",
    "#        break\n",
    "\n",
    "#there is an initial default set of supply cards. This may be modified later by player choice if this default \n",
    "#selection is not chosen. So first determine if the players use the default set\n",
    "#default_supply_set = False\n",
    "#for s in pre_tag.contents[default_supply_cards_start_index:]:\n",
    "#    if 'Default card selection was used' in s:\n",
    "#        default_supply_set = True\n",
    "#        break\n",
    "#    elif '----------------------' in s:\n",
    "#        break\n",
    "       \n",
    "#if the default set was used then grab card names\n",
    "#supply_cards = [] \n",
    "#if default_supply_set == True:\n",
    "#    (index, cards) = parse_row_into_cards(pre_tag.contents[default_supply_cards_start_index:])\n",
    "#    supply_cards = cards\n",
    "    \n",
    "#print(\"Default supply cards chosen: \" + str(default_supply_set))                \n",
    "#print(len(supply_cards))\n",
    "#print(supply_cards)"
   ]
  },
  {
   "cell_type": "code",
   "execution_count": 13,
   "id": "78ecafee",
   "metadata": {},
   "outputs": [],
   "source": [
    "#next we extract supply cards when players make a choice. In this case we look for the substring 'chosen cards are'\n",
    "#which tags the start of the set of chosen supply cards. This should be followed by a number of veto statements\n",
    "#dependent on the number of players\n",
    "#index_end = 0 \n",
    "#if default_supply_set == False:\n",
    "#    for (i,s) in enumerate(pre_tag.contents[default_supply_cards_start_index:]):\n",
    "#        if 'chosen cards are' in s:\n",
    "#            #loop over chosen supply cards\n",
    "#            (index, cards) = parse_row_into_cards(pre_tag.contents[default_supply_cards_start_index + i + 1:])\n",
    "#            index_end = default_supply_cards_start_index + i + index + 1\n",
    "#            supply_cards = cards\n",
    "\n",
    "#next each player can veto a card\n",
    "#vetoed_cards = []\n",
    "#for player in players:\n",
    "#    for s in pre_tag.contents[index_end:]:\n",
    "#        check_string = player + ' vetoes'\n",
    "#        if check_string in s:\n",
    "#            vetoed_cards.append(s.next_sibling.text)\n",
    "\n",
    "#remove vetoed cards from list of supply cards\n",
    "#supply_cards = list(filter(lambda x: x not in vetoed_cards, supply_cards))\n",
    "\n",
    "#print(default_supply_cards_start_index)\n",
    "#print(vetoed_cards)             \n",
    "#print(supply_cards)"
   ]
  },
  {
   "cell_type": "code",
   "execution_count": 16,
   "id": "3c972fe6",
   "metadata": {},
   "outputs": [
    {
     "name": "stdout",
     "output_type": "stream",
     "text": [
      "{'jayro': {1: {'buys': [['Ironworks']], 'trashing': [], 'gaining': [], 'trashes': [], 'gains': []}, 2: {'buys': [['Great Hall']], 'trashing': [], 'gaining': [], 'trashes': [], 'gains': []}, 3: {'buys': [['Native Village']], 'trashing': [], 'gaining': [['Great Hall']], 'trashes': [], 'gains': []}, 4: {'buys': [['Laboratory']], 'trashing': [], 'gaining': [], 'trashes': [], 'gains': []}, 5: {'buys': [['Great Hall']], 'trashing': [], 'gaining': [], 'trashes': [], 'gains': []}, 6: {'buys': [['Silver']], 'trashing': [], 'gaining': [['Scout']], 'trashes': [], 'gains': []}, 7: {'buys': [['Scout']], 'trashing': [], 'gaining': [], 'trashes': [], 'gains': []}, 8: {'buys': [['Market']], 'trashing': [], 'gaining': [['Silver']], 'trashes': [], 'gains': []}, 9: {'buys': [['Masquerade']], 'trashing': [], 'gaining': [], 'trashes': [], 'gains': []}, 10: {'buys': [['Gold']], 'trashing': [], 'gaining': [], 'trashes': [], 'gains': []}, 11: {'buys': [['Gold']], 'trashing': [], 'gaining': [['Silver']], 'trashes': [], 'gains': []}, 12: {'buys': [['Gold']], 'trashing': [], 'gaining': [], 'trashes': [], 'gains': []}, 13: {'buys': [['Province']], 'trashing': [], 'gaining': [], 'trashes': [], 'gains': []}, 14: {'buys': [['Gold']], 'trashing': [], 'gaining': [['Scout']], 'trashes': [], 'gains': []}, 15: {'buys': [['Province']], 'trashing': [], 'gaining': [], 'trashes': [], 'gains': []}, 16: {'buys': [['Silver']], 'trashing': [], 'gaining': [], 'trashes': [], 'gains': []}, 17: {'buys': [['Gold']], 'trashing': [], 'gaining': [], 'trashes': [], 'gains': []}, 18: {'buys': [['Market']], 'trashing': [], 'gaining': [['Mining Village']], 'trashes': [], 'gains': []}, 19: {'buys': [['Colony']], 'trashing': [], 'gaining': [], 'trashes': [], 'gains': []}, 20: {'buys': [['Colony']], 'trashing': [], 'gaining': [], 'trashes': [], 'gains': []}, 21: {'buys': [['Colony']], 'trashing': [], 'gaining': [], 'trashes': [], 'gains': []}, 22: {'buys': [['Mining Village']], 'trashing': [], 'gaining': [], 'trashes': [], 'gains': []}, 23: {'buys': [['Colony']], 'trashing': [], 'gaining': [['Silver']], 'trashes': [], 'gains': []}, 24: {'buys': [['Duchy']], 'trashing': [['Mining Village']], 'gaining': [], 'trashes': [], 'gains': []}, 25: {'buys': [['Colony']], 'trashing': [], 'gaining': [], 'trashes': [], 'gains': []}, 26: {'buys': [['Province']], 'trashing': [], 'gaining': [], 'trashes': [], 'gains': []}, 27: {'buys': [['Mining Village']], 'trashing': [], 'gaining': [['Silver']], 'trashes': [], 'gains': []}, 28: {'buys': [['Silver']], 'trashing': [], 'gaining': [], 'trashes': [], 'gains': []}, 29: {'buys': [['Province'], ['Estate']], 'trashing': [['Mining Village']], 'gaining': [], 'trashes': [], 'gains': []}}, 'Malletman': {1: {'buys': [['Great Hall']], 'trashing': [], 'gaining': [], 'trashes': [], 'gains': []}, 2: {'buys': [['Ironworks']], 'trashing': [], 'gaining': [], 'trashes': [], 'gains': []}, 3: {'buys': [[\"Worker's Village\"]], 'trashing': [], 'gaining': [], 'trashes': [], 'gains': []}, 4: {'buys': [['Great Hall']], 'trashing': [], 'gaining': [['Great Hall']], 'trashes': [], 'gains': []}, 5: {'buys': [['Great Hall'], ['Native Village']], 'trashing': [], 'gaining': [], 'trashes': [], 'gains': []}, 6: {'buys': [['Native Village']], 'trashing': [], 'gaining': [['Great Hall']], 'trashes': [], 'gains': []}, 7: {'buys': [['Native Village'], ['Native Village']], 'trashing': [], 'gaining': [['Silver']], 'trashes': [], 'gains': []}, 8: {'buys': [['Native Village']], 'trashing': [], 'gaining': [], 'trashes': [], 'gains': []}, 9: {'buys': [['Silver']], 'trashing': [], 'gaining': [], 'trashes': [], 'gains': []}, 10: {'buys': [['Native Village']], 'trashing': [], 'gaining': [['Silver']], 'trashes': [], 'gains': []}, 11: {'buys': [['Native Village'], ['Native Village']], 'trashing': [], 'gaining': [], 'trashes': [], 'gains': []}, 12: {'buys': [['Native Village']], 'trashing': [], 'gaining': [], 'trashes': [], 'gains': []}, 13: {'buys': [['Gold']], 'trashing': [], 'gaining': [['Scout']], 'trashes': [], 'gains': []}, 14: {'buys': [['Market']], 'trashing': [], 'gaining': [], 'trashes': [], 'gains': []}, 15: {'buys': [], 'trashing': [], 'gaining': [], 'trashes': [], 'gains': []}, 16: {'buys': [['Laboratory']], 'trashing': [], 'gaining': [['Mining Village']], 'trashes': [], 'gains': []}, 17: {'buys': [['Province']], 'trashing': [], 'gaining': [], 'trashes': [], 'gains': []}, 18: {'buys': [['Laboratory'], ['Laboratory']], 'trashing': [], 'gaining': [], 'trashes': [], 'gains': []}, 19: {'buys': [['Silver']], 'trashing': [], 'gaining': [], 'trashes': [], 'gains': []}, 20: {'buys': [], 'trashing': [], 'gaining': [], 'trashes': [], 'gains': []}, 21: {'buys': [['Gold']], 'trashing': [], 'gaining': [['Mining Village']], 'trashes': [], 'gains': []}, 22: {'buys': [['Duchy']], 'trashing': [], 'gaining': [], 'trashes': [], 'gains': []}, 23: {'buys': [['Gold']], 'trashing': [], 'gaining': [], 'trashes': [], 'gains': []}, 24: {'buys': [['Laboratory']], 'trashing': [], 'gaining': [], 'trashes': [], 'gains': []}, 25: {'buys': [['Province']], 'trashing': [['Mining Village']], 'gaining': [], 'trashes': [], 'gains': []}, 26: {'buys': [['Province'], ['Estate']], 'trashing': [], 'gaining': [], 'trashes': [], 'gains': []}, 27: {'buys': [['Mining Village']], 'trashing': [], 'gaining': [], 'trashes': [], 'gains': []}, 28: {'buys': [['Province']], 'trashing': [['Mining Village']], 'gaining': [['Mining Village']], 'trashes': [], 'gains': []}, 29: {'buys': [['Colony']], 'trashing': [['Mining Village']], 'gaining': [], 'trashes': [], 'gains': []}}}\n"
     ]
    }
   ],
   "source": [
    "#next loop through the turns and extract and bought or gained cards\n",
    "\n",
    "#use a dictionary of dictionaries to track gained cards by turn by player, and initialise keys\n",
    "incremental_cards_by_turn = {}\n",
    "for player in players:\n",
    "    incremental_cards_by_turn[player] = {}\n",
    "    for turn in range(1,turns_by_player[player]+1):\n",
    "        incremental_cards_by_turn[player][turn] = {}\n",
    "        incremental_cards_by_turn[player][turn] = {}\n",
    "        incremental_cards_by_turn[player][turn] = {}\n",
    "        incremental_cards_by_turn[player][turn] = {}\n",
    "    for turn in range(1,turns_by_player[player]+1):\n",
    "        incremental_cards_by_turn[player][turn]['buys'] = {}\n",
    "        incremental_cards_by_turn[player][turn]['trashing'] = {}\n",
    "        incremental_cards_by_turn[player][turn]['gaining'] = {}\n",
    "        incremental_cards_by_turn[player][turn]['trashes'] = {}\n",
    "    \n",
    "for player in players:\n",
    "    turn_counter = 1\n",
    "    #string to check for a buy action\n",
    "    check_buy = player + ' buys'\n",
    "    #string to check if current player is trashing a card\n",
    "    check_trashing = 'trashing'\n",
    "    #string to check if current player is gaining a card\n",
    "    check_gaining = 'gaining'\n",
    "    #string to check if another player trashes a card. Howver, current player can both 'trashes' \n",
    "    #and 'trashing'. Also it is possible for a player to trash nothing\n",
    "    check_player_trashes = [x + ' trashes' for x in players] # need to check this!\n",
    "    #string to check if another player is gains a card (gains is used rather than\n",
    "    #gaining when a player gets a card out of turn)\n",
    "    check_player_gains = [ x + ' gains' for x in players]\n",
    "    #string to check end of turn\n",
    "    check_turn_end = '(' + player + ' draws:'\n",
    "    for (i,p) in enumerate(pre_tag.contents):\n",
    "        check_turn = player + '\\'s' + ' turn ' + str(turn_counter)\n",
    "        if check_turn in p:\n",
    "            buy_card_list = []\n",
    "            trashing_card_list = []\n",
    "            gaining_card_list = []\n",
    "            gains_card_list = {} #needs to be a dictionary as multiple players may gain in another player's round\n",
    "            trashes_card_list = {} #needs to be a dictionary as multiple players may need to trash in another player's round\n",
    "            for player_ in players:\n",
    "                gains_card_list[player_] = [] \n",
    "                trashes_card_list[player_] = [] \n",
    "            for (j,q) in enumerate(pre_tag.contents[i:]):\n",
    "                player_gains_list = [ x in q for x in check_player_gains]\n",
    "                player_trashes_list = [ x in q for x in check_player_trashes]\n",
    "                if check_buy in q:\n",
    "                    (index, cards) = parse_row_into_cards(pre_tag.contents[i + j:])\n",
    "                    buy_card_list.append(cards)\n",
    "                elif check_trashing in q:\n",
    "                    if 'trashing nothing' in r:\n",
    "                        break\n",
    "                    (index, cards) = parse_row_into_cards(pre_tag.contents[i + j:])\n",
    "                    trashing_card_list.append(cards)\n",
    "                elif check_gaining in q:\n",
    "                    #also we need to check for a 'gaining nothing' case\n",
    "                    if 'gaining nothing' in r:\n",
    "                        break\n",
    "                    else:\n",
    "                        (index, cards) = parse_row_into_cards(pre_tag.contents[i + j:])\n",
    "                        gaining_card_list.append(cards)\n",
    "                elif any(player_gains_list):\n",
    "                    #next we check if an opponent gains a card, e.g. a curse card\n",
    "                    #need to loop through opponents\n",
    "                    for (index, player_gains_check) in enumerate(player_gains_list):\n",
    "                        if player_gains_check == True:\n",
    "                            player_ = players[index]\n",
    "                            (index_, cards) = parse_row_into_cards(pre_tag.contents[i + j:])\n",
    "                            gains_card_list[player_].append(cards)\n",
    "                elif any(player_trashes_list):\n",
    "                    #next we check if an opponent trashes a card\n",
    "                    for (index, player_trashes_check) in enumerate(player_trashes_list):\n",
    "                        if player_trashes_check == True:\n",
    "                            player_ = players[index]\n",
    "                            (index_, cards) = parse_row_into_cards(pre_tag.contents[i + j:])\n",
    "                            trashes_card_list[player_].append(cards)\n",
    "                elif check_turn_end in q.text:\n",
    "                    incremental_cards_by_turn[player][turn_counter]['buys'] = buy_card_list\n",
    "                    incremental_cards_by_turn[player][turn_counter]['trashing'] = trashing_card_list\n",
    "                    incremental_cards_by_turn[player][turn_counter]['gaining'] = gaining_card_list\n",
    "                    for player_ in gains_card_list.keys():\n",
    "                        incremental_cards_by_turn[player_][turn_counter]['gains'] = gains_card_list[player_] \n",
    "                    for player_ in trashes_card_list.keys():\n",
    "                        incremental_cards_by_turn[player_][turn_counter]['trashes'] = trashes_card_list[player_] \n",
    "                    turn_counter += 1\n",
    "                    break\n",
    "\n",
    "#finally we flatten incremental_cards_by_turn into a dictionary of lists\n",
    "for player in players:\n",
    "    for turns in \n",
    "    incremental_cards_by_turn.keys():\n",
    "    "
   ]
  },
  {
   "cell_type": "code",
   "execution_count": 19,
   "id": "2ff9a575",
   "metadata": {},
   "outputs": [
    {
     "name": "stdout",
     "output_type": "stream",
     "text": [
      "[['Gold']]\n",
      "[]\n",
      "[['Mining Village']]\n",
      "[]\n"
     ]
    }
   ],
   "source": [
    "#player = 'jayro'\n",
    "player = 'Malletman'\n",
    "turn = 21\n",
    "print(incremental_cards_by_turn[player][turn]['buys'])\n",
    "print(incremental_cards_by_turn[player][turn]['trashing'])\n",
    "print(incremental_cards_by_turn[player][turn]['gaining'])\n",
    "print(incremental_cards_by_turn[player][turn]['trashes'])"
   ]
  },
  {
   "cell_type": "code",
   "execution_count": 20,
   "id": "d01140e2",
   "metadata": {},
   "outputs": [],
   "source": [
    "#first categorise supply cards if possible\n",
    "supply_sets= {}\n",
    "supply_sets['SizeDistortion'] = ['Artisan', 'Bandit', 'Bureaucrat', 'Chapel', 'Festival', 'Gardens', 'Sentry', \n",
    "                                    'Throne Room', 'Witch','Workshop']\n",
    "\n",
    "def check_known_supply_set(supply_sets_dict, cards):\n",
    "    # Sort both lists\n",
    "    for card_set in supply_sets_dict.keys():\n",
    "        sorted_card_set = sorted(supply_sets_dict[card_set])\n",
    "        sorted_cards = sorted(cards)\n",
    "        # Compare the sorted lists\n",
    "        if sorted_card_set == sorted_cards:\n",
    "            return card_set\n",
    "    return 'Unmatched'\n",
    "    "
   ]
  },
  {
   "cell_type": "code",
   "execution_count": 21,
   "id": "c2e7b1da",
   "metadata": {},
   "outputs": [],
   "source": [
    "#first output high level information, including number of players, the set of supply cards and if the set of \n",
    "#supply cards is recognised\n",
    "supply_set_match = check_known_supply_set(supply_sets, supply_cards)\n",
    "output_file = output_dir + supply_set_match + '/' + high_level_output_file\n",
    "with open(output_file, 'w') as file:\n",
    "    file.write('Input log: ' + html_doc + '\\n')\n",
    "    file.write('Number of Players: ' + str(len(players)) + '\\n')\n",
    "    file.write('Final Scores: ' + ','.join(scores)+ '\\n')\n",
    "    file.write('Supply cards: ' + ','.join(supply_cards)+ '\\n')"
   ]
  },
  {
   "cell_type": "code",
   "execution_count": null,
   "id": "814f5214",
   "metadata": {},
   "outputs": [],
   "source": [
    "#convert dictionary into output txt file of the format of the features listener file from TAG\n",
    "\n",
    "#dont forgot to add in starting set of cards"
   ]
  },
  {
   "cell_type": "code",
   "execution_count": null,
   "id": "13fccc32",
   "metadata": {},
   "outputs": [],
   "source": [
    "#print(soup.title)\n",
    "#print(soup.head)\n",
    "#print(soup.children)\n",
    "#children = soup.children\n",
    "#print(next(children))\n",
    "#print(soup.get_text())\n",
    "#soup.find_all('span')"
   ]
  }
 ],
 "metadata": {
  "kernelspec": {
   "display_name": "Python 3 (ipykernel)",
   "language": "python",
   "name": "python3"
  },
  "language_info": {
   "codemirror_mode": {
    "name": "ipython",
    "version": 3
   },
   "file_extension": ".py",
   "mimetype": "text/x-python",
   "name": "python",
   "nbconvert_exporter": "python",
   "pygments_lexer": "ipython3",
   "version": "3.9.12"
  }
 },
 "nbformat": 4,
 "nbformat_minor": 5
}
