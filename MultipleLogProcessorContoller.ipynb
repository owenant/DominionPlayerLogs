{
 "cells": [
  {
   "cell_type": "code",
   "execution_count": 28,
   "id": "d7b25999",
   "metadata": {},
   "outputs": [],
   "source": [
    "#unzips and re-zips individual log files and processes each one by calling out to the single file player \n",
    "#log processor\n",
    "import logging\n",
    "import os\n",
    "from PlayerLogProcessor import processor_log_file\n",
    "import pdb\n",
    "import tarfile"
   ]
  },
  {
   "cell_type": "code",
   "execution_count": 13,
   "id": "1179959a",
   "metadata": {},
   "outputs": [],
   "source": [
    "#set-directory of compressed files to process\n",
    "year_dir_name = '2010-all/'\n",
    "dir_name = 'DominionPlayerLogs/' +  year_dir_name\n",
    "output_dir = 'ProcessedLogs/' + year_dir_name"
   ]
  },
  {
   "cell_type": "code",
   "execution_count": 30,
   "id": "f5f623dc",
   "metadata": {},
   "outputs": [
    {
     "ename": "KeyError",
     "evalue": "26",
     "output_type": "error",
     "traceback": [
      "\u001b[0;31m---------------------------------------------------------------------------\u001b[0m",
      "\u001b[0;31mKeyError\u001b[0m                                  Traceback (most recent call last)",
      "Input \u001b[0;32mIn [30]\u001b[0m, in \u001b[0;36m<cell line: 8>\u001b[0;34m()\u001b[0m\n\u001b[1;32m     15\u001b[0m \u001b[38;5;28;01mfor\u001b[39;00m game_log \u001b[38;5;129;01min\u001b[39;00m os\u001b[38;5;241m.\u001b[39mlistdir(extract_path):\n\u001b[1;32m     16\u001b[0m     logging\u001b[38;5;241m.\u001b[39mdebug(\u001b[38;5;124m\"\u001b[39m\u001b[38;5;124mProcessing file: \u001b[39m\u001b[38;5;124m\"\u001b[39m \u001b[38;5;241m+\u001b[39m \u001b[38;5;28mstr\u001b[39m(extract_path \u001b[38;5;241m+\u001b[39m \u001b[38;5;124m'\u001b[39m\u001b[38;5;124m/\u001b[39m\u001b[38;5;124m'\u001b[39m \u001b[38;5;241m+\u001b[39m game_log))\n\u001b[0;32m---> 17\u001b[0m     \u001b[43mprocessor_log_file\u001b[49m\u001b[43m(\u001b[49m\u001b[43mextract_path\u001b[49m\u001b[43m,\u001b[49m\u001b[43m \u001b[49m\u001b[43mgame_log\u001b[49m\u001b[43m,\u001b[49m\u001b[43m \u001b[49m\u001b[43moutput_dir\u001b[49m\u001b[43m)\u001b[49m\n\u001b[1;32m     19\u001b[0m \u001b[38;5;66;03m#delete extracted directory\u001b[39;00m\n\u001b[1;32m     20\u001b[0m pdb\u001b[38;5;241m.\u001b[39mset_trace()\n",
      "File \u001b[0;32m~/GitProjects/PlayerLogs/PlayerLogProcessor.py:189\u001b[0m, in \u001b[0;36mprocessor_log_file\u001b[0;34m(input_dir, html_doc, output_dir)\u001b[0m\n\u001b[1;32m    187\u001b[0m             trashes_card_list[player_] \u001b[38;5;241m=\u001b[39m cards\n\u001b[1;32m    188\u001b[0m \u001b[38;5;28;01melif\u001b[39;00m check_turn_end \u001b[38;5;129;01min\u001b[39;00m q\u001b[38;5;241m.\u001b[39mtext:\n\u001b[0;32m--> 189\u001b[0m     \u001b[43mincremental_cards_by_turn\u001b[49m\u001b[43m[\u001b[49m\u001b[43mplayer\u001b[49m\u001b[43m]\u001b[49m\u001b[43m[\u001b[49m\u001b[43mturn_counter\u001b[49m\u001b[43m]\u001b[49m[\u001b[38;5;124m'\u001b[39m\u001b[38;5;124mbuys\u001b[39m\u001b[38;5;124m'\u001b[39m] \u001b[38;5;241m=\u001b[39m buy_card_list\n\u001b[1;32m    190\u001b[0m     incremental_cards_by_turn[player][turn_counter][\u001b[38;5;124m'\u001b[39m\u001b[38;5;124mtrashing\u001b[39m\u001b[38;5;124m'\u001b[39m] \u001b[38;5;241m=\u001b[39m trashing_card_list\n\u001b[1;32m    191\u001b[0m     incremental_cards_by_turn[player][turn_counter][\u001b[38;5;124m'\u001b[39m\u001b[38;5;124mgaining\u001b[39m\u001b[38;5;124m'\u001b[39m] \u001b[38;5;241m=\u001b[39m gaining_card_list\n",
      "\u001b[0;31mKeyError\u001b[0m: 26"
     ]
    }
   ],
   "source": [
    "#set-up log\n",
    "logger = logging.getLogger()\n",
    "fhandler = logging.FileHandler(filename='processor.log', mode='a')\n",
    "logger.addHandler(fhandler)\n",
    "logger.setLevel(logging.DEBUG)\n",
    "\n",
    "#process individual log files\n",
    "for tar_day_file in os.listdir(dir_name):\n",
    "    #extract tar file to directory\n",
    "    with tarfile.open(dir_name + '/' + tar_day_file, 'r') as tar:\n",
    "        extract_path = dir_name + '/' + tar_day_file[:-8]\n",
    "        tar.extractall(extract_path)\n",
    "        \n",
    "    #then loop through individual games\n",
    "    for game_log in os.listdir(extract_path):\n",
    "        logging.debug(\"Processing file: \" + str(extract_path + '/' + game_log))\n",
    "        processor_log_file(extract_path, game_log, output_dir)\n",
    "    \n",
    "    #delete extracted directory\n",
    "    pdb.set_trace()\n",
    "    "
   ]
  },
  {
   "cell_type": "code",
   "execution_count": null,
   "id": "13ccb834",
   "metadata": {},
   "outputs": [],
   "source": []
  }
 ],
 "metadata": {
  "kernelspec": {
   "display_name": "Python 3 (ipykernel)",
   "language": "python",
   "name": "python3"
  },
  "language_info": {
   "codemirror_mode": {
    "name": "ipython",
    "version": 3
   },
   "file_extension": ".py",
   "mimetype": "text/x-python",
   "name": "python",
   "nbconvert_exporter": "python",
   "pygments_lexer": "ipython3",
   "version": "3.9.12"
  }
 },
 "nbformat": 4,
 "nbformat_minor": 5
}
